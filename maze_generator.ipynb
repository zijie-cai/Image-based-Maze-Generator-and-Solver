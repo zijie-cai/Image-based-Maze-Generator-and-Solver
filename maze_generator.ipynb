{
 "cells": [
  {
   "cell_type": "markdown",
   "id": "877e621c-0b73-4815-a81d-518b6a716183",
   "metadata": {},
   "source": [
    "<b><center style=\"font-size:250%; font-family:verdana;\">Rectangular Maze Image Generator</center></b>\n",
    "\n",
    "<hr class=\"solid\">\n",
    "\n",
    "<b><center style=\"font-size:200%; font-family:verdana;\">1. Introduction</center></b>\n",
    "\n",
    "<p style=\"font-family:verdana;\"> Mazes can be a fun way to challenge the mind and solve complex problems. In this notebook, we will create an interactive Rectangular Maze Image Generator that can generate a random rectangular maze of any given width and height. The maze will be generated using the Depth-First Search (DFS) algorithm, and we will create a visual representation of the maze as well. By the end of this notebook, you will be able to generate your own mazes and visualize them in an image format. </p>\n",
    "\n",
    "<hr class=\"solid\">\n",
    "\n",
    "<b><center style=\"font-size:200%; font-family:verdana;\">2. Maze Size Configuration</center></b>\n",
    "\n",
    "<p style=\"font-family:verdana;\"> In this section, we create and display two interactive text widgets. These widgets will allow you to specify the dimensions of your maze. The minimum allowable size is 10, while the maximum is 50. Feel free to enter the width and height as per your needs. </p>"
   ]
  },
  {
   "cell_type": "code",
   "execution_count": 1,
   "id": "ac496f4c-ce6b-4600-9bbb-efd4bfabf88b",
   "metadata": {},
   "outputs": [
    {
     "data": {
      "application/vnd.jupyter.widget-view+json": {
       "model_id": "8a44efc7e00e4b8dba0602ca42e1743c",
       "version_major": 2,
       "version_minor": 0
      },
      "text/plain": [
       "BoundedIntText(value=30, description='Maze Width:', max=50, min=10)"
      ]
     },
     "metadata": {},
     "output_type": "display_data"
    },
    {
     "data": {
      "application/vnd.jupyter.widget-view+json": {
       "model_id": "40875a32e6184472be4f0788bfa7e904",
       "version_major": 2,
       "version_minor": 0
      },
      "text/plain": [
       "BoundedIntText(value=30, description='Maze Height:', max=50, min=10)"
      ]
     },
     "metadata": {},
     "output_type": "display_data"
    }
   ],
   "source": [
    "from rectangular_maze.widgets import width_widget, height_widget\n",
    "\n",
    "# Display widgets\n",
    "display(width_widget)\n",
    "display(height_widget)"
   ]
  },
  {
   "cell_type": "markdown",
   "id": "2bb5a2dc-98a6-4e2a-a7ea-29c9ea5b8b78",
   "metadata": {},
   "source": [
    "<hr class=\"solid\">\n",
    "\n",
    "<b><center style=\"font-size:200%; font-family:verdana;\">3. Maze Generation and Visualization</center></b>\n",
    "\n",
    "<p style=\"font-family:verdana;\">Once the width and height of the maze are specified, the actual maze generation begins. The maze is generated using a depth-first search approach, which ensures that there is a valid path between any two points in the maze.</p>\n",
    "\n",
    "<p style=\"font-family:verdana;\">This process is not only computational but also visual. Once you run the following cell, a new pygame window will be opened up to show a live visualization of the maze generation. Each cell in the maze is either a wall (represented in black) or a pathway (represented in white).</p>\n",
    "\n",
    "<p style=\"font-family:verdana;\">This live visualization provides a fascinating insight into how the maze is incrementally created, allowing us to watch as the algorithm navigates through the grid of cells, backtracks when it hits a dead end, and eventually completes the full maze.</p>\n",
    "\n",
    "<p style=\"font-family:verdana;\">In the Pygame window, cells and walls are color-coded to illustrate the status of each cell:</p>\n",
    "\n",
    "- <b>Black cells</b> are unvisited cells, the areas that the algorithm has yet to explore.\n",
    "- <b>Red cells</b> represent visited cells, the areas that the algorithm has explored.\n",
    "- <b>White cells</b> signify backtracked cells, where the algorithm has returned after reaching a dead end.\n",
    "- <b>Green cells</b> denote the current cell, where the algorithm is currently exploring."
   ]
  },
  {
   "cell_type": "code",
   "execution_count": 2,
   "id": "cc15338d-8dbe-4c6e-aeed-c4f8df6e91ff",
   "metadata": {},
   "outputs": [
    {
     "name": "stdout",
     "output_type": "stream",
     "text": [
      "pygame 2.5.0 (SDL 2.28.0, Python 3.9.16)\n",
      "Hello from the pygame community. https://www.pygame.org/contribute.html\n"
     ]
    }
   ],
   "source": [
    "from rectangular_maze.settings import WIDTH_CELL_COUNT, HEIGHT_CELL_COUNT, CELL_SIZE\n",
    "from rectangular_maze.generate import generate_maze\n",
    "\n",
    "# The `generate_maze` function performs the maze generation and returns \n",
    "# the final maze grid and a list of Pygame frames for the animation\n",
    "grid, frames, start, end = generate_maze(WIDTH_CELL_COUNT, HEIGHT_CELL_COUNT, CELL_SIZE)"
   ]
  },
  {
   "cell_type": "markdown",
   "id": "4f726ac6-23c0-4e35-b88d-267042c44b37",
   "metadata": {},
   "source": [
    "<hr class=\"solid\">\n",
    "\n",
    "<b><center style=\"font-size:200%; font-family:verdana;\">4. Save and Display the Maze Generation as a GIF</center></b>\n",
    "\n",
    "<p style=\"font-family:verdana;\">If you'd like to record the maze generation process, there is an option to save it as a GIF. This is especially useful if you'd like to review the process later, share it with others, or simply enjoy the captivating visuals of your maze being built.</p>\n",
    "<p style=\"font-family:verdana;\">To do so, run the following code cell. It will save the maze generation process as a \"maze.gif\" file in the maze_example directory. The GIF will also be displayed in the cell output for your immediate viewing.</p>"
   ]
  },
  {
   "cell_type": "code",
   "execution_count": null,
   "id": "55b6d311-6ac8-4c6f-ab35-363e858f4440",
   "metadata": {},
   "outputs": [],
   "source": [
    "from IPython.display import Image\n",
    "from rectangular_maze.gif import maze_gif\n",
    "\n",
    "# Create the GIF \n",
    "maze_gif(frames)\n",
    "\n",
    "# Load the GIF \n",
    "gif_path = \"maze_example/maze.gif\"\n",
    "gif = Image(filename=gif_path)\n",
    "\n",
    "# Display the GIF\n",
    "display(gif)"
   ]
  },
  {
   "cell_type": "markdown",
   "id": "e38c34d9-583d-4fc7-95ac-97a81e30bef6",
   "metadata": {},
   "source": [
    "<hr class=\"solid\">\n",
    "\n",
    "<b><center style=\"font-size:200%; font-family:verdana;\">5. Rendering and Saving the Maze as an Image</center></b>\n",
    "\n",
    "<p style=\"font-family:verdana;\">With the maze fully generated and visualized interactively, it's now time to render the maze as a static image, which allows for easier sharing and further analysis. For this purpose, we are going to use the `draw_maze` function.</p>\n",
    "\n",
    "<p style=\"font-family:verdana;\">The function `draw_maze` is designed to iterate over the grid of the maze, examining each cell and painting it in the image accordingly. It uses a simple color scheme: black for the walls and white for the pathways. This results in a clear and concise image representation of our maze.</p>\n",
    "\n",
    "<p style=\"font-family:verdana;\">After the image is generated, it is saved in the maze_example directory with the filename \"maze.png\". Therefore, you will be able to find the image in the same directory where your notebook is located. The image will also be displayed in the cell output for your immediate viewing.</p>"
   ]
  },
  {
   "cell_type": "code",
   "execution_count": 3,
   "id": "286176a3-21a1-485b-99e1-f3fad4d0c8f5",
   "metadata": {},
   "outputs": [
    {
     "data": {
      "image/png": "[encoded data removed]",
      "text/plain": [
       "<IPython.core.display.Image object>"
      ]
     },
     "metadata": {},
     "output_type": "display_data"
    }
   ],
   "source": [
    "from rectangular_maze.draw import draw_maze\n",
    "from IPython.display import Image, display\n",
    "\n",
    "# Draw the maze image\n",
    "draw_maze(grid, start, end, filename=\"maze_example/maze.png\", cell_size=12)\n",
    "\n",
    "# Load image from file\n",
    "img = Image(filename=\"maze_example/maze.png\")\n",
    "\n",
    "# Display the image\n",
    "display(img)"
   ]
  },
  {
   "cell_type": "markdown",
   "id": "6f5c065c-e351-4dbd-9d70-9f3cd23b93a5",
   "metadata": {},
   "source": [
    "<hr class=\"solid\">\n",
    "\n",
    "<b><center style=\"font-size:200%; font-family:verdana;\">6. Analyzing the Shortest Path in the Maze</center></b>\n",
    "\n",
    "<p style=\"font-family:verdana;\">After rendering the maze, the next step is to find and visualize the shortest path through the maze. To do this, we use the A* pathfinding algorithm, which is a well-known algorithm in computer science used for pathfinding and graph traversal.</p>\n",
    "\n",
    "<p style=\"font-family:verdana;\">We first use the `a_star` function to calculate the shortest path from the starting point to the ending point of the maze. This function uses heuristics to prioritize the path that likely leads to the end point faster, resulting in an optimal solution. The function returns a list representing the shortest path from the start cell to the end cell.</p>\n",
    "\n",
    "<p style=\"font-family:verdana;\">After obtaining the shortest path, we then visualize it on the maze image using the `draw_maze` function again, but this time we pass in the shortest path to the `path` parameter. The shortest path is represented as a line traversing from the start cell to the end cell.</p>\n",
    "\n",
    "<p style=\"font-family:verdana;\">The image is saved in the maze_example directory with the filename \"maze_solution.png\". The generated image of the maze with the shortest path solution is displayed for your immediate viewing.</p>"
   ]
  },
  {
   "cell_type": "code",
   "execution_count": 4,
   "id": "88fa9145-366e-4cf4-b7a3-17730ee9bb69",
   "metadata": {},
   "outputs": [
    {
     "data": {
      "image/png": "[encoded data removed]",
      "text/plain": [
       "<IPython.core.display.Image object>"
      ]
     },
     "metadata": {},
     "output_type": "display_data"
    }
   ],
   "source": [
    "from rectangular_maze.a_star import a_star\n",
    "\n",
    "# Find the shortest path\n",
    "shortest_path = a_star(grid, start, end)\n",
    "\n",
    "# Draw the maze image with the shortest path\n",
    "draw_maze(grid, start, end, path=shortest_path, filename=\"maze_example/maze_solution.png\", cell_size=12)\n",
    "\n",
    "# Load image from file\n",
    "img = Image(filename=\"maze_example/maze_solution.png\")\n",
    "\n",
    "# Display the image\n",
    "display(img)"
   ]
  },
  {
   "cell_type": "code",
   "execution_count": null,
   "id": "47397f2c-6cb0-4079-9a65-6c09c7bed86c",
   "metadata": {},
   "outputs": [],
   "source": []
  }
 ],
 "metadata": {
  "kernelspec": {
   "display_name": "Python 3 (ipykernel)",
   "language": "python",
   "name": "python3"
  },
  "language_info": {
   "codemirror_mode": {
    "name": "ipython",
    "version": 3
   },
   "file_extension": ".py",
   "mimetype": "text/x-python",
   "name": "python",
   "nbconvert_exporter": "python",
   "pygments_lexer": "ipython3",
   "version": "3.9.16"
  }
 },
 "nbformat": 4,
 "nbformat_minor": 5
}
