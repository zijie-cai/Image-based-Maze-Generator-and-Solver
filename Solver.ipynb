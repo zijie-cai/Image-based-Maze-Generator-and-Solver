{
 "cells": [
  {
   "cell_type": "markdown",
   "id": "cb3f4791-360c-4bdc-b074-5d63b82f1f39",
   "metadata": {},
   "source": []
  },
  {
   "cell_type": "code",
   "execution_count": null,
   "id": "6ccfe499-d44e-4b49-ab47-34d4106747cf",
   "metadata": {},
   "outputs": [],
   "source": []
  },
  {
   "cell_type": "code",
   "execution_count": 1,
   "id": "f2c9bec8-0ada-4e8e-9380-f826386fca5a",
   "metadata": {},
   "outputs": [
    {
     "data": {
      "image/png": "[encoded data removed]",
      "text/plain": [
       "<IPython.core.display.Image object>"
      ]
     },
     "metadata": {},
     "output_type": "display_data"
    }
   ],
   "source": [
    "from IPython.display import Image, display\n",
    "import cv2 \n",
    "\n",
    "def load_image(file_path):\n",
    "    \"\"\"Load an image from file.\"\"\"\n",
    "    return cv2.imread(file_path, cv2.IMREAD_UNCHANGED)\n",
    "\n",
    "# Load image from file as Image object and numpy array\n",
    "img_array = load_image(\"maze_example/maze_1.png\")\n",
    "img_rgb = Image(filename=\"maze_example/maze_1.png\")\n",
    "\n",
    "display(img_rgb)"
   ]
  },
  {
   "cell_type": "code",
   "execution_count": null,
   "id": "72f61cd8-4376-47da-b598-d82b7a3f44a4",
   "metadata": {},
   "outputs": [],
   "source": []
  },
  {
   "cell_type": "code",
   "execution_count": 2,
   "id": "7b02a103-f50f-4ba0-8ef4-9b58496c32e2",
   "metadata": {},
   "outputs": [
    {
     "data": {
      "image/png": "[encoded data removed]",
      "text/plain": [
       "<PIL.Image.Image image mode=L size=1045x572>"
      ]
     },
     "metadata": {},
     "output_type": "display_data"
    }
   ],
   "source": [
    "from PIL import Image\n",
    "import numpy as np\n",
    "\n",
    "def detect_edges(image, low_threshold=50, high_threshold=150):\n",
    "    \"\"\"Detect edges in an image using the Canny algorithm.\"\"\"\n",
    "    return cv2.Canny(image, low_threshold, high_threshold)\n",
    "\n",
    "# Test the function\n",
    "edges = detect_edges(img_array)\n",
    "\n",
    "# Convert the numpy array to a PIL image\n",
    "edges_img = Image.fromarray(edges)\n",
    "\n",
    "# Display the image\n",
    "display(edges_img)"
   ]
  },
  {
   "cell_type": "code",
   "execution_count": 3,
   "id": "9831d3f1-0faa-4c78-82c5-2289c273754b",
   "metadata": {},
   "outputs": [
    {
     "name": "stdout",
     "output_type": "stream",
     "text": [
      "Cell Size: 11\n",
      "Width Cell Count: 93\n",
      "Height Cell Count: 50\n"
     ]
    }
   ],
   "source": [
    "import numpy as np\n",
    "\n",
    "def find_cell_size_and_count(edges):\n",
    "    # Find the indices of the first edge pixel in the image\n",
    "    edge_indices = np.where(edges == 255)\n",
    "  \n",
    "    # The cell size is the minimum of the row and column indices + 1\n",
    "    cell_size = min(edge_indices[0][0], edge_indices[1][0]) + 1\n",
    "\n",
    "    # Calculate the image size\n",
    "    height, width = edges.shape\n",
    "\n",
    "    # Calculate cell count in width and height\n",
    "    width_cell_count = (width - 2 * cell_size) // cell_size\n",
    "    height_cell_count = (height - 2 * cell_size) // cell_size\n",
    "\n",
    "    return cell_size, width_cell_count, height_cell_count\n",
    "\n",
    "# Test the function\n",
    "cell_size, width_cell_count, height_cell_count = find_cell_size_and_count(edges)\n",
    "print(f'Cell Size: {cell_size}')\n",
    "print(f'Width Cell Count: {width_cell_count}')\n",
    "print(f'Height Cell Count: {height_cell_count}')"
   ]
  },
  {
   "cell_type": "code",
   "execution_count": 4,
   "id": "cdf0f20e-4b0d-4867-880a-35d6f3a021db",
   "metadata": {},
   "outputs": [],
   "source": [
    "def remove_padding(edges, cell_size):\n",
    "    start_row = cell_size - 1\n",
    "    end_row = edges.shape[0] - cell_size\n",
    "    start_col = cell_size + 1\n",
    "    end_col = edges.shape[1] - cell_size \n",
    "    return edges[start_row:end_row, start_col:end_col]\n",
    "\n",
    "# Call the function\n",
    "edges = remove_padding(edges, cell_size)"
   ]
  },
  {
   "cell_type": "code",
   "execution_count": 5,
   "id": "aa4068b6-5d98-49ca-9050-e01c5b1278f5",
   "metadata": {},
   "outputs": [
    {
     "name": "stdout",
     "output_type": "stream",
     "text": [
      "pygame 2.5.0 (SDL 2.28.0, Python 3.9.16)\n",
      "Hello from the pygame community. https://www.pygame.org/contribute.html\n"
     ]
    }
   ],
   "source": [
    "from preprocess.cell import Cell \n",
    "\n",
    "def edges_to_cells(edges, cell_size, width_cell_count, height_cell_count):\n",
    "    # Initialize a 2D grid of cells\n",
    "    grid = [[Cell(x, y) for x in range(width_cell_count)] for y in range(height_cell_count)]\n",
    "    \n",
    "    # Assuming 70% 255's is considered a wall\n",
    "    threshold = 0.7 * cell_size\n",
    "\n",
    "    # Iterate through the grid\n",
    "    for i in range(height_cell_count):\n",
    "        for j in range(width_cell_count):\n",
    "            # Avoid out-of-bound indices\n",
    "            i_next = min((i+1)*cell_size, edges.shape[0]-1)\n",
    "            j_next = min((j+1)*cell_size, edges.shape[1]-1)\n",
    "            \n",
    "            # Get the corresponding cell borders from edges\n",
    "            top = edges[i*cell_size, j*cell_size:j_next]\n",
    "            bottom = edges[i_next, j*cell_size:j_next]\n",
    "            left = edges[i*cell_size:i_next, j*cell_size]\n",
    "            right = edges[i*cell_size:i_next, j_next]\n",
    "            \n",
    "            cell = grid[i][j]\n",
    "            \n",
    "            # Set wall attributes based on edge data\n",
    "            cell.walls['top'] = np.sum(top == 255) >= threshold\n",
    "            cell.walls['bottom'] = np.sum(bottom == 255) >= threshold\n",
    "            cell.walls['left'] = np.sum(left == 255) >= threshold\n",
    "            cell.walls['right'] = np.sum(right == 255) >= threshold\n",
    "\n",
    "            grid[i][j] = cell\n",
    "    return grid"
   ]
  },
  {
   "cell_type": "code",
   "execution_count": 6,
   "id": "8bbf16ee-f12c-42e8-93cf-046de496ad8b",
   "metadata": {
    "tags": []
   },
   "outputs": [],
   "source": [
    "grid = edges_to_cells(edges, cell_size, width_cell_count, height_cell_count)"
   ]
  },
  {
   "cell_type": "code",
   "execution_count": 7,
   "id": "9cb95589-e343-4f88-b037-7381009cde98",
   "metadata": {},
   "outputs": [],
   "source": [
    "def find_start_end(grid):\n",
    "    \"\"\"\n",
    "    Finds the start and end cells in the grid based on missing walls.\n",
    "\n",
    "    Parameters:\n",
    "    grid (list): The 2D grid representing the maze.\n",
    "\n",
    "    Returns:\n",
    "    start (Cell), end (Cell): The start and end cells in the maze, or None if not found.\n",
    "    \"\"\"\n",
    "    height = len(grid)\n",
    "    width = len(grid[0])\n",
    "\n",
    "    # Check top and bottom borders\n",
    "    for i in range(width):\n",
    "        if not grid[0][i].walls['top']:\n",
    "            start = grid[0][i]\n",
    "            grid[0][i].status = 'start'\n",
    "        if not grid[height-1][i].walls['bottom']:\n",
    "            end = grid[height-1][i]\n",
    "            grid[height-1][i].status = 'end'\n",
    "\n",
    "    # Check left and right borders\n",
    "    for i in range(height):\n",
    "        if not grid[i][0].walls['left']:\n",
    "            start = grid[i][0]\n",
    "            grid[i][0].status = 'start'\n",
    "        if not grid[i][width-1].walls['right']:\n",
    "            end = grid[i][width-1]\n",
    "            grid[i][width-1].status = 'end'\n",
    "\n",
    "    return start, end"
   ]
  },
  {
   "cell_type": "code",
   "execution_count": 8,
   "id": "5c3c7c3d-b267-422b-9fe6-9db85395bacb",
   "metadata": {},
   "outputs": [
    {
     "name": "stdout",
     "output_type": "stream",
     "text": [
      "shortest path length 711\n"
     ]
    }
   ],
   "source": [
    "from preprocess.draw import draw_maze\n",
    "from preprocess.a_star import a_star_visualization\n",
    "\n",
    "start, end = find_start_end(grid)\n",
    "\n",
    "# Find the shortest path\n",
    "shortest_path = a_star_visualization(grid, start, end, width_cell_count, height_cell_count, cell_size)\n",
    "print(f\"shortest path length {len(shortest_path)}\")"
   ]
  },
  {
   "cell_type": "code",
   "execution_count": 9,
   "id": "8b9cc511-8c4b-47ca-a947-fd5572769a6c",
   "metadata": {},
   "outputs": [
    {
     "data": {
      "image/png": "[encoded data removed]",
      "text/plain": [
       "<IPython.core.display.Image object>"
      ]
     },
     "metadata": {},
     "output_type": "display_data"
    }
   ],
   "source": [
    "from IPython.display import Image, display\n",
    "from preprocess.draw import draw_maze\n",
    "\n",
    "# Draw the maze image with the shortest path\n",
    "draw_maze(grid, start, end, path=shortest_path, filename=\"maze_example/maze_solution.png\", cell_size=cell_size)\n",
    "\n",
    "# Load image from file\n",
    "img = Image(filename=\"maze_example/maze_solution.png\")\n",
    "\n",
    "# Display the image\n",
    "display(img)"
   ]
  },
  {
   "cell_type": "code",
   "execution_count": null,
   "id": "b3ae395b-6ef7-4caf-abb2-9c5fc787eec8",
   "metadata": {},
   "outputs": [],
   "source": []
  }
 ],
 "metadata": {
  "kernelspec": {
   "display_name": "Python 3 (ipykernel)",
   "language": "python",
   "name": "python3"
  },
  "language_info": {
   "codemirror_mode": {
    "name": "ipython",
    "version": 3
   },
   "file_extension": ".py",
   "mimetype": "text/x-python",
   "name": "python",
   "nbconvert_exporter": "python",
   "pygments_lexer": "ipython3",
   "version": "3.9.16"
  }
 },
 "nbformat": 4,
 "nbformat_minor": 5
}
